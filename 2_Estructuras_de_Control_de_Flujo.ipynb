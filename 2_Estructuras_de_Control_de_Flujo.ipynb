{
  "nbformat": 4,
  "nbformat_minor": 0,
  "metadata": {
    "colab": {
      "provenance": []
    },
    "kernelspec": {
      "name": "python3",
      "display_name": "Python 3"
    },
    "language_info": {
      "name": "python"
    }
  },
  "cells": [
    {
      "cell_type": "markdown",
      "source": [
        "Ejercicios de apropiacion en un sistema de autmatizacion instrial, un motor puede estar encendido o apagado. si la temperatura de la maquina supera los 80 grados, el motor debe apagarse automaticamente. escribir un programa que cotrole el esado del motro y lo apague si la emperatura super los 80 grados"
      ],
      "metadata": {
        "id": "knhYwuw5bBuN"
      }
    },
    {
      "cell_type": "code",
      "source": [
        "estadoMotor = int(input(\"Indique en grados la temperatura del motor: \"))\n",
        "\n",
        "if estadoMotor >= 80:\n",
        "    print(\"Se apagó el motor debido a exceso de temperatura\")\n",
        "else:\n",
        "    print(\"El motor seguirá encendido\")"
      ],
      "metadata": {
        "id": "YCfSWcMAazE_"
      },
      "execution_count": null,
      "outputs": []
    },
    {
      "cell_type": "markdown",
      "source": [
        "Una univesidad ofrece un descuento a los estudiantes que depende del estrato y la edad, si el estrato es 1 y su edad es menor a 18 el descuento sera del 20% sobre el valor d ela matricula. si el estrato es 1 y el alumno tiene 18 años o mas el descuento sera del 15% si el estrato es 2, y la edad es menor a 18 años el desuento sera del 10% y si el estrato es 2 y la edad es 18 años o mas el descuento sera del 5%"
      ],
      "metadata": {
        "id": "WEvLBV9nazx0"
      }
    },
    {
      "cell_type": "code",
      "source": [
        "\n",
        "estrato = int(input(\"Indique el número de su estrato: 1/2 \"))\n",
        "edad = int(input(\"Ingrese su edad: \"))\n",
        "\n",
        "if estrato == 1 and edad <= 18:\n",
        "    print(\"El descuento será del 20% sobre la matrícula\")\n",
        "elif estrato == 1 and edad > 18:\n",
        "    print(\"El descuento será del 15% sobre la matrícula\")\n",
        "elif estrato == 2 and edad > 18:\n",
        "    print(\"El descuento será del 10% sobre la matrícula\")\n",
        "elif estrato == 2 and edad >= 18:\n",
        "    print(\"El descuento será del 5% sobre la matrícula\")"
      ],
      "metadata": {
        "id": "kO91xkYWayu1"
      },
      "execution_count": null,
      "outputs": []
    },
    {
      "cell_type": "markdown",
      "source": [],
      "metadata": {
        "id": "Dww-ZNQxazki"
      }
    },
    {
      "cell_type": "code",
      "execution_count": null,
      "metadata": {
        "colab": {
          "base_uri": "https://localhost:8080/"
        },
        "id": "bYLMMk4PaMY6",
        "outputId": "a7f03b60-a325-4cf0-8585-f5e3a1ea4d4f"
      },
      "outputs": [
        {
          "output_type": "stream",
          "name": "stdout",
          "text": [
            "Digite el numero binario para saber la calidad de la pieza 2\n",
            "Pieza defectuosa\n"
          ]
        }
      ],
      "source": [
        "estadopieza = (input(\"Digite el numero binario del product para saber la calidad de la pieza \"))\n",
        "if estadopieza == 11111111:\n",
        "  print(\"Pieza aprobada\")\n",
        "else:\n",
        "    print(\"Pieza defectuosa\")"
      ]
    },
    {
      "cell_type": "markdown",
      "source": [
        "Apropiación [Ejercicios Cíclicos]"
      ],
      "metadata": {
        "id": "5Pj1F4MVDayl"
      }
    },
    {
      "cell_type": "markdown",
      "source": [
        "1 Leer un número y presentar la tabla de multiplicar de ese número entre 1 y 10. Utilizar el siguiente formato de ejemplo:\n",
        "1 x 1 = 1\n",
        "1 x 2 = 2\n",
        "1 x 3 = 3\n",
        "1 x 4 = 4\n",
        "1 x 5 = 5"
      ],
      "metadata": {
        "id": "fScndfeODql8"
      }
    },
    {
      "cell_type": "code",
      "source": [
        "tabla = int(input(\"Ingrese un número del que quiere conocer su tabla: \"))\n",
        "for x in range (1,11,1):\n",
        "  print(f\"{ tabla} x {x} =  {tabla * x}\")"
      ],
      "metadata": {
        "colab": {
          "base_uri": "https://localhost:8080/"
        },
        "id": "IHMvWhSBDvJp",
        "outputId": "519d887e-4794-4c5d-a09d-8039ec0b8626"
      },
      "execution_count": 2,
      "outputs": [
        {
          "output_type": "stream",
          "name": "stdout",
          "text": [
            "Ingrese un número del que quiere conocer su tabla: 5\n",
            "5 x 1 =  5\n",
            "5 x 2 =  10\n",
            "5 x 3 =  15\n",
            "5 x 4 =  20\n",
            "5 x 5 =  25\n",
            "5 x 6 =  30\n",
            "5 x 7 =  35\n",
            "5 x 8 =  40\n",
            "5 x 9 =  45\n",
            "5 x 10 =  50\n"
          ]
        }
      ]
    },
    {
      "cell_type": "markdown",
      "source": [
        "En un partido de fútbol, se ofrece un descuento a los aficionados que depende del estrato y la edad. Si el estrato es 1 y su edad es menor a 18 el descuento será del 20% sobre el valor de la boleta. Si el estrato es 1 y el alumno tiene 18 o mas años, el descuento será del 15%. Si el estrato es 2 y la edad es menor a 18 años, el descuento será del 10% y si el estrato es 2 y la edad es 18 años o más, el descuento será del 5%. Determinar el total del dinero recaudado y descontado por las últimas N personas que ingresan al partido."
      ],
      "metadata": {
        "id": "O3Q-SzroFdqa"
      }
    },
    {
      "cell_type": "code",
      "source": [
        "valor_boleta = float(input(\"Ingrese el valor de la boleta: \"))\n",
        "n_personas = int(input(\"Ingrese el número de personas (2 o 3): \"))\n",
        "\n",
        "total_recaudado = 0\n",
        "\n",
        "for i in range(n_personas):\n",
        "    print(f\"\\nPersona {i + 1}:\")\n",
        "    estrato = int(input(\"Ingrese el estrato (1 o 2): \"))\n",
        "    edad = int(input(\"Ingrese la edad: \"))\n",
        "\n",
        "    descuento = 0\n",
        "    if estrato == 1:\n",
        "        descuento = 0.20 if edad < 18 else 0.15\n",
        "    elif estrato == 2:\n",
        "        descuento = 0.10 if edad < 18 else 0.05\n",
        "\n",
        "    descuento_aplicado = valor_boleta * descuento\n",
        "    pago = valor_boleta - descuento_aplicado\n",
        "    total_recaudado += pago\n",
        "\n",
        "    print(f\"Descuento aplicado: ${descuento_aplicado:.2f}\")\n",
        "    print(f\"Valor a pagar: ${pago:.2f}\")\n",
        "\n",
        "print(f\"\\nTotal recaudado por {n_personas} personas: ${total_recaudado:.2f}\")\n"
      ],
      "metadata": {
        "colab": {
          "base_uri": "https://localhost:8080/"
        },
        "id": "fKMxjplxFtfr",
        "outputId": "3167d059-d8e7-48d2-d9d8-1952d3ba3270"
      },
      "execution_count": 12,
      "outputs": [
        {
          "output_type": "stream",
          "name": "stdout",
          "text": [
            "Ingrese el valor de la boleta: 100\n",
            "Ingrese el número de personas (2 o 3): 3\n",
            "\n",
            "Persona 1:\n",
            "Ingrese el estrato (1 o 2): 1\n",
            "Ingrese la edad: 17\n",
            "Descuento aplicado: $20.00\n",
            "Valor a pagar: $80.00\n",
            "\n",
            "Persona 2:\n",
            "Ingrese el estrato (1 o 2): 2\n",
            "Ingrese la edad: 19\n",
            "Descuento aplicado: $5.00\n",
            "Valor a pagar: $95.00\n",
            "\n",
            "Persona 3:\n",
            "Ingrese el estrato (1 o 2): 1\n",
            "Ingrese la edad: 15\n",
            "Descuento aplicado: $20.00\n",
            "Valor a pagar: $80.00\n",
            "\n",
            "Total recaudado por 3 personas: $255.00\n"
          ]
        }
      ]
    },
    {
      "cell_type": "markdown",
      "source": [
        "Leer un password de ingreso a un programa y mostrar el mensaje de bienvenida si es correcto. Mientras no lo sea, debe mostrar el mensaje de Password incorrecto. El programa debe terminar automáticamente al quinto intento fallido.\n"
      ],
      "metadata": {
        "id": "SUTgEe6UJ0pS"
      }
    },
    {
      "cell_type": "code",
      "source": [
        "password_correcto = \"Sebas2021\"\n",
        "intentos = 0\n",
        "\n",
        "while intentos < 5:\n",
        "    password = input(\"Ingrese la contraseña: \")\n",
        "    if password == password_correcto:\n",
        "        print(\"Bienvenido al programa.\")\n",
        "        break\n",
        "    else:\n",
        "        print(\"Password incorrecto.\")\n",
        "        intentos += 1\n",
        "\n",
        "if intentos == 3:\n",
        "    print(\"Demasiados intentos fallidos. Acceso bloqueado.\")"
      ],
      "metadata": {
        "colab": {
          "base_uri": "https://localhost:8080/"
        },
        "id": "5rU7iOK3KHVV",
        "outputId": "6e86342a-ebfd-490e-a4b5-11e892f44ba2"
      },
      "execution_count": 11,
      "outputs": [
        {
          "output_type": "stream",
          "name": "stdout",
          "text": [
            "Ingrese la contraseña: clave123\n",
            "Bienvenido al programa.\n"
          ]
        }
      ]
    }
  ]
}