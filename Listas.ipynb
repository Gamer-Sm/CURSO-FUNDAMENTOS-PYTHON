{
  "cells": [
    {
      "cell_type": "markdown",
      "metadata": {
        "id": "EyZGjUtPewPk"
      },
      "source": [
        "Se denominan colecciones y son estructuras que nos permiten almacenar datos. En python existe tipos de colecciones, Listas, Tuplas, CONJUNTOS Y Diccionales"
      ]
    },
    {
      "cell_type": "markdown",
      "metadata": {
        "id": "-6WC-I-vz4KL"
      },
      "source": [
        "**Listas **"
      ]
    },
    {
      "cell_type": "markdown",
      "metadata": {
        "id": "vXOxynmSzsn0"
      },
      "source": []
    },
    {
      "cell_type": "markdown",
      "metadata": {
        "id": "E0CR-x8zz-0j"
      },
      "source": [
        "las listas son similares a los arreglos en JavaScript, nos permite acceder a sus elementos atraves de sus indices"
      ]
    },
    {
      "cell_type": "markdown",
      "metadata": {
        "id": "0GpYLgtk0JRr"
      },
      "source": [
        "## Creacion y acceso\n",
        "Utilizan corchetes para la creacion y acceso a sus elementos"
      ]
    },
    {
      "cell_type": "code",
      "execution_count": null,
      "metadata": {
        "colab": {
          "base_uri": "https://localhost:8080/"
        },
        "id": "59n0BfAEzqla",
        "outputId": "e545aeb7-872f-40b3-dd25-dfcfa7460214"
      },
      "outputs": [
        {
          "name": "stdout",
          "output_type": "stream",
          "text": [
            "['python', 'Java', 'JavaScript', 'C++']\n",
            "python\n",
            "Java\n",
            "JavaScript\n",
            "<class 'list'>\n",
            "['PHP', 'Java', 'JavaScript', 'C++']\n"
          ]
        }
      ],
      "source": [
        "Lenguajes = [\"python\", \"Java\", \"JavaScript\", \"C++\"]\n",
        "print(Lenguajes)\n",
        "print(Lenguajes[0])\n",
        "print(Lenguajes[1])\n",
        "print(Lenguajes[2])\n",
        "print(type(Lenguajes))\n",
        "Lenguajes [0] = \"PHP\"\n",
        "print (Lenguajes)"
      ]
    },
    {
      "cell_type": "code",
      "execution_count": null,
      "metadata": {
        "colab": {
          "base_uri": "https://localhost:8080/"
        },
        "id": "bJXc9ucJ1I4z",
        "outputId": "31cac6ce-167f-4ac0-b9cf-80527ed59793"
      },
      "outputs": [
        {
          "name": "stdout",
          "output_type": "stream",
          "text": [
            "15\n"
          ]
        }
      ],
      "source": [
        "numeros = [3,4,5,6,7,8,9]\n",
        "res = numeros [-3] + numeros [5]\n",
        "print(res)"
      ]
    },
    {
      "cell_type": "markdown",
      "metadata": {
        "id": "-45cKegV1ezU"
      },
      "source": [
        "##Otra forma alternativa de crear listas es con la funcion list"
      ]
    },
    {
      "cell_type": "code",
      "execution_count": null,
      "metadata": {
        "colab": {
          "base_uri": "https://localhost:8080/"
        },
        "id": "okHrEXuo1i4j",
        "outputId": "e35264d4-c66d-4cde-9b5b-846b564723e9"
      },
      "outputs": [
        {
          "name": "stdout",
          "output_type": "stream",
          "text": [
            "['1', '2', '3', '4', '5', '6', '7']\n",
            "[1, 2, 3, 4, 5, 6, 7]\n"
          ]
        }
      ],
      "source": [
        "mi_lista = list('1234567')\n",
        "print(mi_lista)\n",
        "\n",
        "milista_enteros = [int(x) for x in mi_lista]\n",
        "print(milista_enteros)"
      ]
    },
    {
      "cell_type": "markdown",
      "metadata": {
        "id": "S2y-ko3K2YRU"
      },
      "source": [
        "append: Colocar el dato siguiente"
      ]
    },
    {
      "cell_type": "code",
      "execution_count": null,
      "metadata": {
        "colab": {
          "base_uri": "https://localhost:8080/"
        },
        "id": "ZW8VlqKd1khj",
        "outputId": "a6701f72-bc5c-4b1b-e6a7-a25fe8b0f1f8"
      },
      "outputs": [
        {
          "name": "stdout",
          "output_type": "stream",
          "text": [
            "[1]\n",
            "[1, 2]\n",
            "[1, 2, 3]\n",
            "[1, 2, 3, 4]\n",
            "[1, 2, 3, 4, 5]\n",
            "[1, 2, 3, 4, 5, 6]\n",
            "[1, 2, 3, 4, 5, 6, 7]\n"
          ]
        }
      ],
      "source": [
        "mi_lista = list('1234567')\n",
        "lista_final = []\n",
        "\n",
        "for x in mi_lista:\n",
        "  lista_final.append(int(x))\n",
        "  print(lista_final)"
      ]
    },
    {
      "cell_type": "code",
      "execution_count": null,
      "metadata": {
        "colab": {
          "base_uri": "https://localhost:8080/"
        },
        "id": "du1-aiFI2g_A",
        "outputId": "da90908f-3c01-4079-e868-67e74a132f79"
      },
      "outputs": [
        {
          "name": "stdout",
          "output_type": "stream",
          "text": [
            "[1, 2, 3, 4, 5, 6, 7, 8, 9, 10, 11, 12, 13, 14, 15, 16, 17, 18, 19]\n"
          ]
        }
      ],
      "source": [
        "mi_lista = list(range(1,20))\n",
        "print(mi_lista)"
      ]
    },
    {
      "cell_type": "markdown",
      "metadata": {
        "id": "SBOwJ-HU2u1s"
      },
      "source": [
        "Una lista de datos puede almacenar cualquier tipo de dato y listas"
      ]
    },
    {
      "cell_type": "code",
      "execution_count": null,
      "metadata": {
        "colab": {
          "base_uri": "https://localhost:8080/"
        },
        "id": "T_eK0TEg23kc",
        "outputId": "5d06d37d-c361-4c9f-c2d3-53065c518a44"
      },
      "outputs": [
        {
          "name": "stdout",
          "output_type": "stream",
          "text": [
            "[2, 3.5, True, 'sena', ['3', '8', 'a', 5]]\n"
          ]
        }
      ],
      "source": [
        "mi_lista = [2, 3.5, True, \"sena\", [\"3\", \"8\", \"a\", 5]]\n",
        "print(mi_lista)"
      ]
    },
    {
      "cell_type": "code",
      "execution_count": null,
      "metadata": {
        "colab": {
          "base_uri": "https://localhost:8080/"
        },
        "id": "vcmrvsqx3O7E",
        "outputId": "547a2e8f-f31c-4249-fb03-aa7da50e8a4d"
      },
      "outputs": [
        {
          "name": "stdout",
          "output_type": "stream",
          "text": [
            "6\n",
            "6\n"
          ]
        }
      ],
      "source": [
        "mi_lista = [1,2,3, ['p','q', [5,6,7]]]\n",
        "print(mi_lista[3][2][1])\n",
        "print(mi_lista[-1][-1][-2])"
      ]
    },
    {
      "cell_type": "code",
      "execution_count": null,
      "metadata": {
        "colab": {
          "base_uri": "https://localhost:8080/"
        },
        "id": "81Ev_ZKg3y4U",
        "outputId": "7ca4e5a0-c69c-4063-8c27-0fc1a8068df6"
      },
      "outputs": [
        {
          "name": "stdout",
          "output_type": "stream",
          "text": [
            "[1, 2, 3, 4, 5, 6, 7, 8, 9]\n",
            "[2, 3, 4]\n",
            "[1, 2]\n",
            "[8, 9]\n",
            "[5, 6, 7, 8]\n",
            "[7, 8, 9]\n"
          ]
        }
      ],
      "source": [
        "mi_lista = list(range(1,10))\n",
        "print(mi_lista)\n",
        "print(mi_lista[1:4])\n",
        "print(mi_lista[:2])\n",
        "print(mi_lista[7:])\n",
        "print(mi_lista[-5:-1])\n",
        "print(mi_lista[-3:])"
      ]
    },
    {
      "cell_type": "code",
      "execution_count": null,
      "metadata": {
        "colab": {
          "base_uri": "https://localhost:8080/"
        },
        "id": "hAJVXzpM3p3b",
        "outputId": "9694bb98-5a13-4814-cd0a-70579e977083"
      },
      "outputs": [
        {
          "name": "stdout",
          "output_type": "stream",
          "text": [
            "['a', 'b', 'c', 4, 5]\n"
          ]
        }
      ],
      "source": [
        "mi_lista =[1,2,3,4,5]\n",
        "mi_lista [0:3] = [\"a\", \"b\", \"c\"]\n",
        "print(mi_lista)"
      ]
    },
    {
      "cell_type": "code",
      "execution_count": null,
      "metadata": {
        "colab": {
          "base_uri": "https://localhost:8080/"
        },
        "id": "zjlZivkp7QCs",
        "outputId": "d865286e-2cdf-4d11-b8d4-4d66459e70f5"
      },
      "outputs": [
        {
          "name": "stdout",
          "output_type": "stream",
          "text": [
            "[1, 2, 3, 4, 5, 6]\n",
            "[1, 2, 3, 4, 5, 6, 6, 7, 8]\n"
          ]
        }
      ],
      "source": [
        "mi_lista =[1,2,3,4,5]\n",
        "mi_lista = mi_lista + [6]\n",
        "print(mi_lista)\n",
        "mi_lista = mi_lista + [6, 7, 8]\n",
        "print(mi_lista)"
      ]
    },
    {
      "cell_type": "code",
      "execution_count": null,
      "metadata": {
        "colab": {
          "base_uri": "https://localhost:8080/"
        },
        "id": "TkWjBAL67cSr",
        "outputId": "ffa2dbf0-d784-4639-c8d6-91a7bea34d4f"
      },
      "outputs": [
        {
          "name": "stdout",
          "output_type": "stream",
          "text": [
            "Valor de x: 1\n",
            "Valor de x: 2\n",
            "Valor de x: 3\n"
          ]
        }
      ],
      "source": [
        "mi_lista = [1,2,3]\n",
        "x, y, z = mi_lista\n",
        "print(f\"Valor de x: {x}\")\n",
        "print(f\"Valor de x: {y}\")\n",
        "print(f\"Valor de x: {z}\")"
      ]
    },
    {
      "cell_type": "markdown",
      "metadata": {
        "id": "3m9LVnRe7syk"
      },
      "source": [
        "## Eliminacion e insercion\n",
        "Para eliminar los elementos d euna lista, utilizamos una palabra reservada"
      ]
    },
    {
      "cell_type": "code",
      "execution_count": null,
      "metadata": {
        "colab": {
          "base_uri": "https://localhost:8080/"
        },
        "id": "7Krw_uf771OP",
        "outputId": "685e01e0-d717-45e2-954e-4f9aa264335b"
      },
      "outputs": [
        {
          "name": "stdout",
          "output_type": "stream",
          "text": [
            "['Python', 'JavaScript']\n"
          ]
        }
      ],
      "source": [
        "lenguaje = [\"Python\", \"Java\", \"JavaScript\"]\n",
        "del lenguaje[1]\n",
        "print(lenguaje)"
      ]
    },
    {
      "cell_type": "markdown",
      "metadata": {
        "id": "PAB0QHSZ8brz"
      },
      "source": [
        "Expliquemos como insertar datos con la funcion insert y al final de la lista con append"
      ]
    },
    {
      "cell_type": "code",
      "execution_count": null,
      "metadata": {
        "colab": {
          "base_uri": "https://localhost:8080/"
        },
        "id": "OEFFz3XK8ojL",
        "outputId": "b6525d97-03f5-4d20-d3f4-fd9f8ed9957b"
      },
      "outputs": [
        {
          "name": "stdout",
          "output_type": "stream",
          "text": [
            "['Python', 'C++', 'Java', 'JavaScript', 'C#', 'Ruby']\n"
          ]
        }
      ],
      "source": [
        "lenguaje = [\"Python\", \"Java\", \"JavaScript\"]\n",
        "lenguaje.append(\"C#\")\n",
        "lenguaje.append(\"Ruby\")\n",
        "lenguaje.insert(1, \"C++\")\n",
        "print(lenguaje)"
      ]
    },
    {
      "cell_type": "code",
      "execution_count": null,
      "metadata": {
        "colab": {
          "base_uri": "https://localhost:8080/"
        },
        "id": "Vwz4ocaG9Dj8",
        "outputId": "565f948b-c2d2-4693-fef7-9056c6d654a8"
      },
      "outputs": [
        {
          "name": "stdout",
          "output_type": "stream",
          "text": [
            "['Ala', 'Casa', 'Cosa']\n"
          ]
        }
      ],
      "source": [
        "lista = [\"Cosa\", \"Casa\", \"Ala\"]\n",
        "lista.sort()\n",
        "print(lista)"
      ]
    },
    {
      "cell_type": "markdown",
      "metadata": {
        "id": "BrfDxWwi9TAu"
      },
      "source": [
        "Para saber si un eleemento se encuentra denro de una lista **in**"
      ]
    },
    {
      "cell_type": "code",
      "execution_count": null,
      "metadata": {
        "colab": {
          "base_uri": "https://localhost:8080/"
        },
        "id": "np4wG3MP9Wub",
        "outputId": "b4bb9506-5dcd-4b72-e345-cd0df18ea0d6"
      },
      "outputs": [
        {
          "name": "stdout",
          "output_type": "stream",
          "text": [
            "False\n",
            "True\n"
          ]
        }
      ],
      "source": [
        "lista = [\"python\", \"Java\", \"C++\"]\n",
        "print(\"Python\" in lista)\n",
        "print(\"C++\" in lista)"
      ]
    },
    {
      "cell_type": "markdown",
      "metadata": {
        "id": "jEFbaoUZ9uPL"
      },
      "source": [
        "##Recorrido de listas\n",
        "Como las listas son objetos iterables las podemos recorrer con un ciclo for"
      ]
    },
    {
      "cell_type": "code",
      "execution_count": null,
      "metadata": {
        "colab": {
          "base_uri": "https://localhost:8080/"
        },
        "id": "llu5CsCW9s58",
        "outputId": "a19e3521-37bb-422c-cf04-adaa7a2c79f9"
      },
      "outputs": [
        {
          "name": "stdout",
          "output_type": "stream",
          "text": [
            "[1, 2, 3, 4, 5, 6]\n",
            "1\n",
            "2\n",
            "3\n",
            "4\n",
            "5\n",
            "6\n"
          ]
        }
      ],
      "source": [
        "numeros = [1,2,3,4,5,6]\n",
        "print(numeros)\n",
        "for n in numeros:\n",
        "  print(n)"
      ]
    },
    {
      "cell_type": "markdown",
      "metadata": {
        "id": "ZOIBXoLX-NNU"
      },
      "source": [
        "Podemos recorrer la lista utilizando el motodo **len**"
      ]
    },
    {
      "cell_type": "code",
      "execution_count": null,
      "metadata": {
        "colab": {
          "base_uri": "https://localhost:8080/"
        },
        "id": "N6HK4iW5-SZU",
        "outputId": "0763f58b-7fd0-4e8d-9df9-5a4c143f9e70"
      },
      "outputs": [
        {
          "name": "stdout",
          "output_type": "stream",
          "text": [
            "4\n",
            "5\n",
            "6\n",
            "7\n"
          ]
        }
      ],
      "source": [
        "mi_lista = [4,5,6,7]\n",
        "for indice in range (0, len(mi_lista)):\n",
        "  print (mi_lista[indice])"
      ]
    },
    {
      "cell_type": "markdown",
      "metadata": {
        "id": "sMs-mEWb-tTM"
      },
      "source": [
        "Podemos acceder al indice de cada elemento a traves de la funcion enumerate"
      ]
    },
    {
      "cell_type": "code",
      "execution_count": null,
      "metadata": {
        "colab": {
          "base_uri": "https://localhost:8080/"
        },
        "id": "InUPxG6g-x90",
        "outputId": "1e47422d-ab99-4336-a1d6-3a7d51a596bd"
      },
      "outputs": [
        {
          "name": "stdout",
          "output_type": "stream",
          "text": [
            "En la posicion x 0 Encontramos el valor: 3\n",
            "En la posicion x 1 Encontramos el valor: 29\n",
            "En la posicion x 2 Encontramos el valor: 42\n",
            "En la posicion x 3 Encontramos el valor: 34\n",
            "En la posicion x 4 Encontramos el valor: 54\n"
          ]
        }
      ],
      "source": [
        "numeros = [3,29,42,34,54]\n",
        "for x,y in enumerate(numeros):\n",
        "  print(f\"En la posicion x {x} Encontramos el valor: {y}\")"
      ]
    },
    {
      "cell_type": "code",
      "execution_count": null,
      "metadata": {
        "colab": {
          "base_uri": "https://localhost:8080/"
        },
        "id": "T5s-rjEZ_TN0",
        "outputId": "5bcdb23f-9874-4f30-bbfb-cffbe440647b"
      },
      "outputs": [
        {
          "name": "stdout",
          "output_type": "stream",
          "text": [
            "En la posicion x 0 Encontramos el valor: a\n",
            "En la posicion x 1 Encontramos el valor: b\n",
            "En la posicion x 2 Encontramos el valor: c\n",
            "En la posicion x 3 Encontramos el valor: d\n",
            "En la posicion x 4 Encontramos el valor: e\n"
          ]
        }
      ],
      "source": [
        "letras = [\"a\", \"b\", \"c\", \"d\", \"e\"]\n",
        "for indice,valor in enumerate(letras):\n",
        "  print(f\"En la posicion x {indice} Encontramos el valor: {valor}\")"
      ]
    },
    {
      "cell_type": "code",
      "execution_count": null,
      "metadata": {
        "colab": {
          "base_uri": "https://localhost:8080/"
        },
        "id": "IK5yA1fR_710",
        "outputId": "89cdfc93-bfb0-4f65-8b8d-d0ee27e9a99f"
      },
      "outputs": [
        {
          "name": "stdout",
          "output_type": "stream",
          "text": [
            "2\n",
            "36\n",
            "76\n",
            "23\n"
          ]
        }
      ],
      "source": [
        "lista = [2,36,76,23]\n",
        "ind = 0\n",
        "while ind < len(lista):\n",
        "    print(lista[ind])\n",
        "    ind += 1\n",
        "\n"
      ]
    },
    {
      "cell_type": "code",
      "execution_count": null,
      "metadata": {
        "colab": {
          "base_uri": "https://localhost:8080/"
        },
        "id": "s9etXkbsBk-0",
        "outputId": "be08e42a-746f-49c4-91cb-67f5f25f2155"
      },
      "outputs": [
        {
          "name": "stdout",
          "output_type": "stream",
          "text": [
            "[\n",
            "'\n",
            "m\n",
            "a\n",
            "'\n"
          ]
        }
      ],
      "source": [
        "lista = ['ma' ,'me', 'mi','mo', 'mu']\n",
        "lista2 = ['pa', 'pe', 'pi', 'po', 'pu']\n",
        "ind = 0\n",
        "while ind < len(lista):\n",
        "      print( )\n",
        "      ind += 1"
      ]
    },
    {
      "cell_type": "code",
      "execution_count": null,
      "metadata": {
        "colab": {
          "base_uri": "https://localhost:8080/"
        },
        "id": "DSBcj3ZnD1kM",
        "outputId": "64de573e-0b4b-4547-a1cd-d965b3596fd0"
      },
      "outputs": [
        {
          "name": "stdout",
          "output_type": "stream",
          "text": [
            "ma-pa\n",
            "me-pe\n",
            "mi-pi\n",
            "mo-po\n",
            "mu-pu\n"
          ]
        }
      ],
      "source": [
        "lista = ['ma' ,'me', 'mi','mo', 'mu']\n",
        "lista2 = ['pa', 'pe', 'pi', 'po', 'pu']\n",
        "\n",
        "for i in range(min(len(lista), len(lista2))):\n",
        "    print(lista[i] + \"-\" + lista2[i])"
      ]
    },
    {
      "cell_type": "code",
      "execution_count": null,
      "metadata": {
        "colab": {
          "base_uri": "https://localhost:8080/"
        },
        "id": "QstlQnZkEW4F",
        "outputId": "9e92d19d-7690-4401-e3b3-8fa4277d3a72"
      },
      "outputs": [
        {
          "name": "stdout",
          "output_type": "stream",
          "text": [
            "('ma', 'pa', 'pu', 'ta')\n",
            "('me', 'pe', 'me', 'te')\n",
            "('mi', 'pi', 'mi', 'ti')\n",
            "('mo', 'po', 'mo', 'to')\n",
            "('mu', 'pu', 'mu', 'tu')\n"
          ]
        }
      ],
      "source": [
        "lista = ['ma' ,'me', 'mi','mo', 'mu']\n",
        "lista2 = ['pa', 'pe', 'pi', 'po', 'pu']\n",
        "lista3 = ['pu' ,'me', 'mi','mo', 'mu']\n",
        "lista4 = ['ta', 'te', 'ti', 'to', 'tu']\n",
        "\n",
        "for x in zip(lista, lista2, lista3, lista4):\n",
        "    print(x)"
      ]
    },
    {
      "cell_type": "markdown",
      "metadata": {
        "id": "giUDR21RFTAD"
      },
      "source": [
        "con la funcion zip podemos terar varias listas simultaneamente"
      ]
    },
    {
      "cell_type": "markdown",
      "metadata": {
        "id": "MIX5HzGgFajU"
      },
      "source": [
        "##Metodos aplicables a listas\n",
        "El metodo sert() que nos permite ordenar los elementos"
      ]
    },
    {
      "cell_type": "code",
      "execution_count": null,
      "metadata": {
        "colab": {
          "base_uri": "https://localhost:8080/"
        },
        "id": "QnCyTZqJFjpE",
        "outputId": "983a2de8-7e89-42ea-8ca1-28b3ef19163b"
      },
      "outputs": [
        {
          "name": "stdout",
          "output_type": "stream",
          "text": [
            "[1, 3, 5, 8, 10, 52]\n"
          ]
        }
      ],
      "source": [
        "mi_lista = [5,10,8,3,1,52]\n",
        "mi_lista.sort()\n",
        "print(mi_lista)"
      ]
    },
    {
      "cell_type": "code",
      "execution_count": null,
      "metadata": {
        "colab": {
          "base_uri": "https://localhost:8080/"
        },
        "id": "dP0nlUW4FyTE",
        "outputId": "6b2219fc-9e27-4927-8bf9-0f09d21c088b"
      },
      "outputs": [
        {
          "name": "stdout",
          "output_type": "stream",
          "text": [
            "[52, 10, 8, 5, 3, 1]\n"
          ]
        }
      ],
      "source": [
        "mi_lista = [5,10,8,3,1,52]\n",
        "mi_lista.sort(reverse=True)\n",
        "print(mi_lista)"
      ]
    },
    {
      "cell_type": "markdown",
      "metadata": {
        "id": "DBP3Ym7wFi9V"
      },
      "source": [
        "El metodo remove() recibe como argumento un objeto y lo borra de la lista"
      ]
    },
    {
      "cell_type": "code",
      "execution_count": null,
      "metadata": {
        "colab": {
          "base_uri": "https://localhost:8080/"
        },
        "id": "6CodDlMVGA4j",
        "outputId": "a7c4965d-9efb-4360-dfe8-ae575712dd65"
      },
      "outputs": [
        {
          "name": "stdout",
          "output_type": "stream",
          "text": [
            "['Python', 'JavaScript']\n"
          ]
        }
      ],
      "source": [
        "lenguaje = [\"Python\", \"Java\", \"JavaScript\"]\n",
        "lenguaje.remove(\"Java\")\n",
        "print(lenguaje)"
      ]
    },
    {
      "cell_type": "markdown",
      "metadata": {
        "id": "WGWeO1d-GRZy"
      },
      "source": [
        "Si utilizo **Del** debo utilizar la posicion para eliminar el elemento, si utilizo remove puedo utilizar directamente el elemento que va a borrar"
      ]
    },
    {
      "cell_type": "code",
      "execution_count": null,
      "metadata": {
        "colab": {
          "base_uri": "https://localhost:8080/"
        },
        "id": "v84YkglxGP0z",
        "outputId": "21cc2568-6e60-4f30-82d1-1a23c9dc5c21"
      },
      "outputs": [
        {
          "name": "stdout",
          "output_type": "stream",
          "text": [
            "['Python', 'JavaScript']\n"
          ]
        }
      ],
      "source": [
        "lenguaje = [\"Python\", \"Java\", \"JavaScript\"]\n",
        "del lenguaje[1]\n",
        "print(lenguaje)"
      ]
    },
    {
      "cell_type": "markdown",
      "metadata": {
        "id": "7KxhbJfmGnHm"
      },
      "source": [
        "El metodo **Reverse()** invierte el contenido de la lista"
      ]
    },
    {
      "cell_type": "code",
      "execution_count": null,
      "metadata": {
        "colab": {
          "base_uri": "https://localhost:8080/"
        },
        "id": "bdVar8idGj3U",
        "outputId": "bb511b43-6af6-494a-f701-7948dddc50ec"
      },
      "outputs": [
        {
          "name": "stdout",
          "output_type": "stream",
          "text": [
            "['JavaScript', 'Java', 'Python']\n"
          ]
        }
      ],
      "source": [
        "lenguaje = [\"Python\", \"Java\", \"JavaScript\"]\n",
        "lenguaje.reverse()\n",
        "print(lenguaje)"
      ]
    },
    {
      "cell_type": "markdown",
      "metadata": {
        "id": "HyxZpD4wGxvz"
      },
      "source": [
        "Cadena invertida"
      ]
    },
    {
      "cell_type": "code",
      "execution_count": null,
      "metadata": {
        "colab": {
          "base_uri": "https://localhost:8080/"
        },
        "id": "Okz8ulQVGy8r",
        "outputId": "0ae42ac5-5059-44b3-818b-614398233f87"
      },
      "outputs": [
        {
          "name": "stdout",
          "output_type": "stream",
          "text": [
            "ANES odnum aloH\n"
          ]
        }
      ],
      "source": [
        "cadena = \"Hola mundo SENA\"\n",
        "print(cadena[::-1])"
      ]
    },
    {
      "cell_type": "code",
      "execution_count": null,
      "metadata": {
        "colab": {
          "base_uri": "https://localhost:8080/"
        },
        "id": "RS9_LPqGG8BW",
        "outputId": "d64b75ca-911a-41cd-d265-bcb413a9d949"
      },
      "outputs": [
        {
          "name": "stdout",
          "output_type": "stream",
          "text": [
            "['H', 'o', 'l', 'a', ' ', 'm', 'u', 'n', 'd', 'o', ' ', 'S', 'E', 'N', 'A']\n",
            "['A', 'N', 'E', 'S', ' ', 'o', 'd', 'n', 'u', 'm', ' ', 'a', 'l', 'o', 'H']\n",
            "ANES odnum aloH\n"
          ]
        }
      ],
      "source": [
        "cadena = \"Hola mundo SENA\"\n",
        "lista = list(cadena)\n",
        "print(lista)\n",
        "lista.reverse()\n",
        "print(lista)\n",
        "cadena = \"\".join(lista)\n",
        "print(cadena)"
      ]
    },
    {
      "cell_type": "markdown",
      "metadata": {
        "id": "Iyl6hgUUHmIg"
      },
      "source": [
        "**OTROS METODOS PARA LISTAS**"
      ]
    },
    {
      "cell_type": "code",
      "execution_count": null,
      "metadata": {
        "id": "tqUyTUMnIJRu"
      },
      "outputs": [],
      "source": []
    },
    {
      "cell_type": "markdown",
      "metadata": {
        "id": "8A9iS9gYIGsM"
      },
      "source": [
        "clear()\n",
        "*texto en cursiva*"
      ]
    },
    {
      "cell_type": "code",
      "execution_count": null,
      "metadata": {
        "id": "J1UaN7alHoNW"
      },
      "outputs": [],
      "source": []
    },
    {
      "cell_type": "markdown",
      "metadata": {
        "id": "G0SX5tFPIMnU"
      },
      "source": [
        "**Tuplas**\n",
        "Generalidades"
      ]
    },
    {
      "cell_type": "markdown",
      "metadata": {
        "id": "xkIrA1miIWg0"
      },
      "source": [
        "Son inmutables"
      ]
    },
    {
      "cell_type": "code",
      "execution_count": null,
      "metadata": {
        "colab": {
          "base_uri": "https://localhost:8080/"
        },
        "id": "87p6HqFAIftD",
        "outputId": "e85a399e-a7d9-4158-fffe-2b1b6fc11a8a"
      },
      "outputs": [
        {
          "name": "stdout",
          "output_type": "stream",
          "text": [
            "<class 'tuple'>\n",
            "b\n",
            "('b', 'c')\n",
            "('a', 'b', 'c')\n"
          ]
        }
      ],
      "source": [
        "mi_tupla = (\"a\", \"b\", \"c\", \"d\")\n",
        "print(type(mi_tupla))\n",
        "print(mi_tupla[1])\n",
        "print(mi_tupla[1:3])\n",
        "print(mi_tupla[:-1])"
      ]
    },
    {
      "cell_type": "code",
      "execution_count": null,
      "metadata": {
        "colab": {
          "base_uri": "https://localhost:8080/",
          "height": 193
        },
        "id": "gCUENOMRJSuc",
        "outputId": "7e919365-5f58-4c08-974e-e71bab2ba3fe"
      },
      "outputs": [
        {
          "ename": "TypeError",
          "evalue": "'tuple' object does not support item assignment",
          "output_type": "error",
          "traceback": [
            "\u001b[0;31m---------------------------------------------------------------------------\u001b[0m",
            "\u001b[0;31mTypeError\u001b[0m                                 Traceback (most recent call last)",
            "\u001b[0;32m<ipython-input-89-1f08b7f2a550>\u001b[0m in \u001b[0;36m<cell line: 0>\u001b[0;34m()\u001b[0m\n\u001b[1;32m      1\u001b[0m \u001b[0mmi_tupla\u001b[0m \u001b[0;34m=\u001b[0m \u001b[0;34m(\u001b[0m\u001b[0;34m\"a\"\u001b[0m\u001b[0;34m,\u001b[0m \u001b[0;34m\"b\"\u001b[0m\u001b[0;34m,\u001b[0m \u001b[0;34m\"c\"\u001b[0m\u001b[0;34m,\u001b[0m \u001b[0;34m\"d\"\u001b[0m\u001b[0;34m)\u001b[0m\u001b[0;34m\u001b[0m\u001b[0;34m\u001b[0m\u001b[0m\n\u001b[1;32m      2\u001b[0m \u001b[0;34m\u001b[0m\u001b[0m\n\u001b[0;32m----> 3\u001b[0;31m \u001b[0mmi_tupla\u001b[0m\u001b[0;34m[\u001b[0m\u001b[0;36m0\u001b[0m\u001b[0;34m]\u001b[0m \u001b[0;34m=\u001b[0m \u001b[0;34m\"z\"\u001b[0m\u001b[0;34m\u001b[0m\u001b[0;34m\u001b[0m\u001b[0m\n\u001b[0m\u001b[1;32m      4\u001b[0m \u001b[0mprint\u001b[0m\u001b[0;34m(\u001b[0m\u001b[0mmi_tupla\u001b[0m\u001b[0;34m)\u001b[0m\u001b[0;34m\u001b[0m\u001b[0;34m\u001b[0m\u001b[0m\n",
            "\u001b[0;31mTypeError\u001b[0m: 'tuple' object does not support item assignment"
          ]
        }
      ],
      "source": [
        "mi_tupla = (\"a\", \"b\", \"c\", \"d\")\n",
        "\n",
        "mi_tupla[0] = \"z\"\n",
        "print(mi_tupla)\n"
      ]
    },
    {
      "cell_type": "code",
      "execution_count": null,
      "metadata": {
        "colab": {
          "base_uri": "https://localhost:8080/"
        },
        "id": "3nH2fOUIJofb",
        "outputId": "72420b80-e40c-4540-b555-be8fb12b8a7a"
      },
      "outputs": [
        {
          "name": "stdout",
          "output_type": "stream",
          "text": [
            "3\n",
            "y\n"
          ]
        }
      ],
      "source": [
        "mi_tupla = (100, 'hola', [1,2,3], 50)\n",
        "print(mi_tupla[2][-1])\n",
        "mi_tupla = (100, 'hola', (1 ,(200, 'D',[\"x\",\"y\",\"z\"])), (1,2,3), -50)\n",
        "print(mi_tupla[2][1][2][1])"
      ]
    },
    {
      "cell_type": "code",
      "execution_count": null,
      "metadata": {
        "colab": {
          "base_uri": "https://localhost:8080/"
        },
        "id": "69kh4T6oMZWE",
        "outputId": "fc326cf1-6a40-4cde-9b69-10aa2b5a30e5"
      },
      "outputs": [
        {
          "name": "stdout",
          "output_type": "stream",
          "text": [
            "4\n"
          ]
        }
      ],
      "source": [
        "mi_tupla = (1,2,3,4,5,6,7,8,9,2,52,6,3,9,2,4,7,8,2)\n",
        "print(mi_tupla.count(2))"
      ]
    },
    {
      "cell_type": "code",
      "execution_count": null,
      "metadata": {
        "id": "EH2skty-M0yM"
      },
      "outputs": [],
      "source": [
        "mi_tupla = (1,2,3,4,5,6,7,8,9,2,52,6,3,9,2,4,7,8,2)\n",
        "mi_tupla.sort()\n",
        "print(mi_tupla)"
      ]
    },
    {
      "cell_type": "code",
      "execution_count": null,
      "metadata": {
        "colab": {
          "base_uri": "https://localhost:8080/"
        },
        "id": "bI2WIwCVM8CE",
        "outputId": "22017bdd-3864-4a7e-dc72-ea4136d238ea"
      },
      "outputs": [
        {
          "name": "stdout",
          "output_type": "stream",
          "text": [
            "('a', 's', 'a', 'r', 'a', 'd', 'o')\n"
          ]
        }
      ],
      "source": [
        "mi_tupla = tuple(\"asarado\")\n",
        "\n",
        "print(mi_tupla)"
      ]
    },
    {
      "cell_type": "code",
      "execution_count": null,
      "metadata": {
        "colab": {
          "base_uri": "https://localhost:8080/"
        },
        "id": "lWxVamGxNFVk",
        "outputId": "2d3a3581-9e47-4256-91da-07e88dfa5dec"
      },
      "outputs": [
        {
          "name": "stdout",
          "output_type": "stream",
          "text": [
            "Ingresar Frasepo\n",
            "('p', 'o')\n",
            "Cantidad ELementos que tiene la tupla es : 2\n",
            "p\n",
            "o\n"
          ]
        }
      ],
      "source": [
        "mi_tupla = tuple(input(\"Ingresar Frase\"))\n",
        "print(mi_tupla)\n",
        "print(f\"Cantidad ELementos que tiene la tupla es : {len(mi_tupla)}\")\n",
        "for dato in mi_tupla:\n",
        "  print(dato)"
      ]
    },
    {
      "cell_type": "markdown",
      "metadata": {
        "id": "63tAxhZnNyE0"
      },
      "source": [
        "Paso de tupla a lista y de lista a tupla"
      ]
    },
    {
      "cell_type": "code",
      "execution_count": null,
      "metadata": {
        "colab": {
          "base_uri": "https://localhost:8080/"
        },
        "id": "9xD0TBPnNhw9",
        "outputId": "8265c761-daee-4788-ac2a-db5a5a368934"
      },
      "outputs": [
        {
          "name": "stdout",
          "output_type": "stream",
          "text": [
            "(1, 2, 3, 4, 5)\n"
          ]
        }
      ],
      "source": [
        "mi_lista = [1,2,3,4,5]\n",
        "mi_tupla = tuple(mi_lista)\n",
        "print(mi_tupla)"
      ]
    },
    {
      "cell_type": "markdown",
      "metadata": {
        "id": "0yJqLE3MN2fE"
      },
      "source": [
        "de tupla a lista"
      ]
    },
    {
      "cell_type": "code",
      "execution_count": null,
      "metadata": {
        "colab": {
          "base_uri": "https://localhost:8080/"
        },
        "id": "qzOXNt4-N4x-",
        "outputId": "a3b66284-75d8-4163-a5af-4e4afb071aa3"
      },
      "outputs": [
        {
          "name": "stdout",
          "output_type": "stream",
          "text": [
            "[1, 2, 3, 4, 5]\n"
          ]
        }
      ],
      "source": [
        "mi_tupla = (1,2,3,4,5)\n",
        "mi_lista = list(mi_tupla)\n",
        "print(mi_lista)"
      ]
    },
    {
      "cell_type": "code",
      "execution_count": null,
      "metadata": {
        "colab": {
          "base_uri": "https://localhost:8080/"
        },
        "id": "cScXIq_4OBZc",
        "outputId": "1bf064e7-ab67-4128-f728-6595c43e42cb"
      },
      "outputs": [
        {
          "name": "stdout",
          "output_type": "stream",
          "text": [
            "(2, 3, 4, 4, 5, 6, 8, 9, 15, 20, 63)\n"
          ]
        }
      ],
      "source": [
        "mi_tupla = (3,4,5,6,15,20,63,4,2,8,9)\n",
        "mi_lista = list(mi_tupla)\n",
        "mi_lista.sort()\n",
        "mi_tupla = tuple(mi_lista)\n",
        "print(mi_tupla)"
      ]
    },
    {
      "cell_type": "markdown",
      "metadata": {
        "id": "lvwTTs9UNEjs"
      },
      "source": [
        "##Apropiacion\n"
      ]
    },
    {
      "cell_type": "markdown",
      "metadata": {
        "id": "rusaJwu5EkzY"
      },
      "source": [
        "1.   pregunte al usuario cuantos elementos desea ingresar en una lista. luego solicite cada uno de eellos y presente el contenido de la lista y su contenido\n"
      ]
    },
    {
      "cell_type": "code",
      "execution_count": null,
      "metadata": {},
      "outputs": [],
      "source": [
        "elementos = int(input(\"Ingrese la cantidad de elemntos de la lista: \"))\n",
        "lista=[]\n",
        "for i in range(elementos):\n",
        "  lista.append(input(f\"Ingrese el elemento {i+1}: \"))\n",
        "print(lista)\n",
        "lista.reverse()\n",
        "print(lista)"
      ]
    },
    {
      "cell_type": "markdown",
      "metadata": {
        "id": "CuniUTzGElXz"
      },
      "source": [
        "2.   Crear una lista de numeros y solicitar un numero. Borrar de la lista ese numero en todas las posiciones donde se encuentre. presentar la lista final"
      ]
    },
    {
      "cell_type": "code",
      "execution_count": null,
      "metadata": {
        "colab": {
          "base_uri": "https://localhost:8080/"
        },
        "id": "UFS31ymnEqqj",
        "outputId": "6c3d6fb1-6074-4dfd-d4d6-2980ffed009b"
      },
      "outputs": [
        {
          "name": "stdout",
          "output_type": "stream",
          "text": [
            "[1, 2, 3, 4, 5, 6, 7, 8, 9, 10]\n",
            "Ingrese un número del 1 al 10: 2\n",
            "[1, 3, 4, 5, 6, 7, 8, 9, 10]\n"
          ]
        }
      ],
      "source": [
        "lista_numeros = [1,2,3,4,5,6,7,8,9,10]\n",
        "print(lista_numeros)\n",
        "numero = int(input(\"Ingrese un número del 1 al 10: \"))\n",
        "if numero in lista_numeros:\n",
        "    lista_numeros.remove(numero)\n",
        "print(lista_numeros)"
      ]
    },
    {
      "cell_type": "markdown",
      "metadata": {
        "id": "LINkt_rTKgyU"
      },
      "source": [
        "\n",
        "\n",
        "3. Solicite al usuario dos(2) frases y devuelva una lista con todas las letras que se repiten en la misma posición de ambas listas\n",
        "         ejemplo:\n",
        "         frase1:  \"holasena\"\n",
        "         frase2:  \"todogana\",\n",
        "         salida: [\"o\",\"n\", \"a\"]"
      ]
    },
    {
      "cell_type": "code",
      "execution_count": null,
      "metadata": {
        "colab": {
          "base_uri": "https://localhost:8080/"
        },
        "id": "texjViq-vPha",
        "outputId": "71eedfad-e7da-49db-e745-98463cf7c399"
      },
      "outputs": [
        {
          "name": "stdout",
          "output_type": "stream",
          "text": [
            "Ingrese una frase/Palabra: Rata\n",
            "Ingrese una frase/Palabra: Ratina\n",
            "Caracteres repetidos: ['R', 'a', 't']\n"
          ]
        }
      ],
      "source": [
        "\n",
        "primera = input(\"Ingrese una frase/Palabra: \")\n",
        "segunda = input(\"Ingrese una frase/Palabra: \")\n",
        "\n",
        "\n",
        "lista_primera = list(primera)\n",
        "lista_segunda = list(segunda)\n",
        "\n",
        "\n",
        "repetidos = []\n",
        "\n",
        "\n",
        "for caracter in lista_primera:\n",
        "    if caracter in lista_segunda and caracter not in repetidos:\n",
        "        repetidos.append(caracter)\n",
        "\n",
        "\n",
        "print(\"Caracteres repetidos:\", repetidos)"
      ]
    }
  ],
  "metadata": {
    "colab": {
      "provenance": []
    },
    "kernelspec": {
      "display_name": "Python 3",
      "name": "python3"
    },
    "language_info": {
      "name": "python"
    }
  },
  "nbformat": 4,
  "nbformat_minor": 0
}
